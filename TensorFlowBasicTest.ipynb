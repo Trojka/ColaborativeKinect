{
  "nbformat": 4,
  "nbformat_minor": 0,
  "metadata": {
    "colab": {
      "name": "TensorFlowBasicTest.ipynb",
      "version": "0.3.2",
      "provenance": [],
      "collapsed_sections": [],
      "include_colab_link": true
    },
    "kernelspec": {
      "name": "python3",
      "display_name": "Python 3"
    }
  },
  "cells": [
    {
      "cell_type": "markdown",
      "metadata": {
        "id": "view-in-github",
        "colab_type": "text"
      },
      "source": [
        "<a href=\"https://colab.research.google.com/github/Trojka/ColaborativeKinect/blob/master/TensorFlowBasicTest.ipynb\" target=\"_parent\"><img src=\"https://colab.research.google.com/assets/colab-badge.svg\" alt=\"Open In Colab\"/></a>"
      ]
    },
    {
      "metadata": {
        "id": "9-5DDXInZIOu",
        "colab_type": "code",
        "colab": {
          "base_uri": "https://localhost:8080/",
          "height": 34
        },
        "outputId": "b888ef0e-5c95-4d72-9833-b2ad7ab1adfb"
      },
      "cell_type": "code",
      "source": [
        "import numpy as np\n",
        "import tensorflow as tf\n",
        "\n",
        "#!pip show tensorflow\n",
        "\n",
        "a = tf.constant(1, dtype=tf.float32)\n",
        "b = tf.constant(2, dtype=tf.float32)\n",
        "\n",
        "c = tf.Variable(a + b)\n",
        "\n",
        "\n",
        "init = tf.global_variables_initializer()\n",
        "\n",
        "#with tf.Session() as session:                    \n",
        "#    session.run(init)                            \n",
        "#    print(session.run(c))\n",
        "    \n",
        "x = tf.placeholder(dtype=tf.float32)    \n",
        "    \n",
        "y = a * x\n",
        "\n",
        "x_feed = np.linspace(-10, 10, num=11)\n",
        "\n",
        "with tf.Session() as sess:\n",
        "  results = sess.run(y, feed_dict={x: x_feed})\n",
        "print(results)"
      ],
      "execution_count": 10,
      "outputs": [
        {
          "output_type": "stream",
          "text": [
            "[-10.  -8.  -6.  -4.  -2.   0.   2.   4.   6.   8.  10.]\n"
          ],
          "name": "stdout"
        }
      ]
    }
  ]
}