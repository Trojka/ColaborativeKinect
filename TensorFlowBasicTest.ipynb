{
  "nbformat": 4,
  "nbformat_minor": 0,
  "metadata": {
    "colab": {
      "name": "TensorFlowBasicTest.ipynb",
      "version": "0.3.2",
      "provenance": [],
      "collapsed_sections": [],
      "include_colab_link": true
    },
    "kernelspec": {
      "name": "python3",
      "display_name": "Python 3"
    }
  },
  "cells": [
    {
      "cell_type": "markdown",
      "metadata": {
        "id": "view-in-github",
        "colab_type": "text"
      },
      "source": [
        "<a href=\"https://colab.research.google.com/github/Trojka/ColaborativeKinect/blob/master/TensorFlowBasicTest.ipynb\" target=\"_parent\"><img src=\"https://colab.research.google.com/assets/colab-badge.svg\" alt=\"Open In Colab\"/></a>"
      ]
    },
    {
      "metadata": {
        "id": "9-5DDXInZIOu",
        "colab_type": "code",
        "colab": {
          "base_uri": "https://localhost:8080/",
          "height": 51
        },
        "outputId": "d69e9514-d3b8-4f09-eff2-2dcad4db7b9f"
      },
      "cell_type": "code",
      "source": [
        "import numpy as np\n",
        "import tensorflow as tf\n",
        "\n",
        "#!pip show tensorflow\n",
        "\n",
        "# constants provide values which cannot be changed\n",
        "a = tf.constant(1, dtype=tf.float32)\n",
        "b = tf.constant(2, dtype=tf.float32)\n",
        "\n",
        "# variables can receive any value\n",
        "# .  they are used to store state\n",
        "c = tf.Variable(a + b)\n",
        "\n",
        "\n",
        "init = tf.global_variables_initializer()\n",
        "\n",
        "with tf.Session() as session:                    \n",
        "    session.run(init)                            \n",
        "    print(session.run(c))\n",
        "    \n",
        "# a placeholder can be filled with any value upon execution of the graph\n",
        "# if the execution graph can be seen as a function, then placeholders can be\n",
        "# .  see as arguments to the function\n",
        "x = tf.placeholder(dtype=tf.float32)    \n",
        "\n",
        "# the calculation graph\n",
        "y = a * x\n",
        "\n",
        "# an array of evenly spaced values\n",
        "x_feed = np.linspace(-10, 10, num=11)\n",
        "\n",
        "# execute the grapg with input the evenly spaced vales\n",
        "# .  thus the output will also be an array of values\n",
        "with tf.Session() as sess:\n",
        "  sess.run(init)\n",
        "  results = sess.run(y, feed_dict={x: x_feed})\n",
        "print(results)"
      ],
      "execution_count": 5,
      "outputs": [
        {
          "output_type": "stream",
          "text": [
            "3.0\n",
            "[-10.  -8.  -6.  -4.  -2.   0.   2.   4.   6.   8.  10.]\n"
          ],
          "name": "stdout"
        }
      ]
    }
  ]
}